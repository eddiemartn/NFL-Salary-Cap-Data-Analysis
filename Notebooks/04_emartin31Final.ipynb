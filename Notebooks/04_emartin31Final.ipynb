{
 "cells": [
  {
   "cell_type": "code",
   "execution_count": 1,
   "id": "2f3de622-d1fa-47a3-af67-bdf5fb49884f",
   "metadata": {},
   "outputs": [],
   "source": [
    "import pandas as pd\n",
    "import matplotlib.pyplot as plt\n",
    "import numpy as np"
   ]
  },
  {
   "cell_type": "code",
   "execution_count": null,
   "id": "f872f4cc-a476-4892-96e2-704382e06053",
   "metadata": {},
   "outputs": [],
   "source": [
    "# Finding the averages for each team\n",
    "avg_stats = pd.read_csv('NFL_Cap_Data_Raw.csv')\n",
    "avg_stats['Cap Space'] = avg_stats['Cap Space'].replace({r'\\$': '', r',': '', r'\\(': '-', r'\\)': ''}, regex=True)\n",
    "avg_stats['Cap Space'] = pd.to_numeric(avg_stats['Cap Space'], errors='coerce')\n",
    "avg_stats['Cap Space'] = avg_stats['Cap Space'] / 1000000\n",
    "avg_pct = avg_stats.groupby('Team')[['Cap Space', 'PCT']].mean().reset_index()\n",
    "avg_pct.columns = ['Team', 'Average Cap Space (M)', 'Average Win PCT']"
   ]
  },
  {
   "cell_type": "code",
   "execution_count": null,
   "id": "f0d86912-adc5-40c7-8d6d-4ef2ea469bd3",
   "metadata": {},
   "outputs": [],
   "source": [
    "# Scatter plot of each teams win percentage and cap space remaining averages\n",
    "avg_pct['Average Cap Space (M)'] = avg_pct['Average Cap Space (M)'].replace({r'\\$': '', r',': '', r'\\(': '-', r'\\)': ''}, regex=True)\n",
    "avg_pct['Average Cap Space (M)'] = pd.to_numeric(avg_pct['Average Cap Space (M)'], errors='coerce')\n",
    "avg_pct['Average Win PCT'] = avg_pct['Average Win PCT'].replace({r'%': '', r',': ''}, regex=True)\n",
    "avg_pct['Average Win PCT'] = pd.to_numeric(avg_pct['Average Win PCT'], errors='coerce')\n",
    "team_avg = avg_pct.groupby('Team').agg({'Average Cap Space (M)': 'mean', 'Average Win PCT': 'mean'}).reset_index()\n",
    "\n",
    "plt.figure(figsize=(10, 6))\n",
    "sns.scatterplot(data=team_avg, x='Average Cap Space (M)', y='Average Win PCT', hue='Team', palette='Set1', legend=False)\n",
    "\n",
    "plt.title('Average Cap Space vs. Average Win Percentage per Team')\n",
    "plt.xlabel('Average Cap Space Remaining (in millions)')\n",
    "plt.ylabel('Average Win Percentage (%)')\n",
    "plt.xticks(ticks=range(0, 40, 5))\n",
    "plt.ylim(0, 1.00)\n",
    "plt.yticks(np.arange(0, 1.1, .10))\n",
    "plt.grid(True)\n",
    "plt.show()\n"
   ]
  }
 ],
 "metadata": {
  "kernelspec": {
   "display_name": "Python 3 (ipykernel)",
   "language": "python",
   "name": "python3"
  },
  "language_info": {
   "codemirror_mode": {
    "name": "ipython",
    "version": 3
   },
   "file_extension": ".py",
   "mimetype": "text/x-python",
   "name": "python",
   "nbconvert_exporter": "python",
   "pygments_lexer": "ipython3",
   "version": "3.12.4"
  }
 },
 "nbformat": 4,
 "nbformat_minor": 5
}
