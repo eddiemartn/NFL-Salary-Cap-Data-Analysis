{
 "cells": [
  {
   "cell_type": "code",
   "execution_count": 3,
   "id": "56a25c3d-b3bc-4bfe-ae99-da2b3693565b",
   "metadata": {},
   "outputs": [],
   "source": [
    "import pandas as pd\n",
    "import matplotlib.pyplot as plt\n",
    "import seaborn as sns"
   ]
  },
  {
   "cell_type": "code",
   "execution_count": null,
   "id": "69bdb66e-c69b-4cf9-8525-677a582a34e5",
   "metadata": {},
   "outputs": [],
   "source": [
    "# Finding the median cap space for each season\n",
    "cap_data = pd.read_csv('NFL_Cap_Data_Raw.csv')\n",
    "\n",
    "cap_data['Cap Space'] = cap_data['Cap Space'].replace({r'\\$': '', r',': '', r'\\(': '-', r'\\)': ''}, regex=True)\n",
    "cap_data['Cap Space'] = pd.to_numeric(cap_data['Cap Space'], errors='coerce')\n",
    "\n",
    "median_cap_space = cap_data.groupby('Year')['Cap Space'].median()\n",
    "median_cap_space\n",
    "plt.figure(figsize=(8,6))\n",
    "sns.boxplot(x='Year', y='Cap Space', data=cap_data)\n",
    "plt.title('Median Cap Space per Year')\n",
    "plt.xlabel('Year')\n",
    "plt.ylabel('Cap Space')\n",
    "plt.show()"
   ]
  }
 ],
 "metadata": {
  "kernelspec": {
   "display_name": "Python 3 (ipykernel)",
   "language": "python",
   "name": "python3"
  },
  "language_info": {
   "codemirror_mode": {
    "name": "ipython",
    "version": 3
   },
   "file_extension": ".py",
   "mimetype": "text/x-python",
   "name": "python",
   "nbconvert_exporter": "python",
   "pygments_lexer": "ipython3",
   "version": "3.12.4"
  }
 },
 "nbformat": 4,
 "nbformat_minor": 5
}
